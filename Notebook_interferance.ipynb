{
 "cells": [
  {
   "cell_type": "code",
   "execution_count": null,
   "id": "f1818ac6-b689-488e-b6f4-2a7b08cfe7e7",
   "metadata": {},
   "outputs": [],
   "source": [
    "from utils.data_manipulation import OSMHandler\n",
    "import os\n",
    "from geopy.geocoders import Nominatim"
   ]
  },
  {
   "cell_type": "code",
   "execution_count": null,
   "id": "2393ebad-265d-4bb6-9d67-404488dac24a",
   "metadata": {},
   "outputs": [],
   "source": [
    "# SZUKANIE PO ADRESIE:\n",
    "geolocator = Nominatim(user_agent = \"my_geocoder\")\n",
    "\n",
    "address = ('Żurawica')\n",
    "location = geolocator.geocode(address)\n",
    "\n",
    "if location:\n",
    "    print(\"Współrzędne dla adresu '{}':\".format(address))\n",
    "    print(\"Szerokość geograficzna:\", location.latitude)\n",
    "    print(\"Długość geograficzna:\", location.longitude)\n",
    "    lat = location.latitude\n",
    "    lon = location.longitude\n",
    "else:\n",
    "    print(\"Nie można znaleźć współrzędnych dla adresu '{}'. Spróbuj podać inny adres.\".format(address))\n",
    "    lat = 50.0469432\n",
    "    lon = 19.997153435836697"
   ]
  },
  {
   "cell_type": "code",
   "execution_count": null,
   "id": "cd614083-16de-4085-ab92-8744b6ce5d43",
   "metadata": {},
   "outputs": [],
   "source": [
    "dic = {'amenity': ['bar', 'biergarten', 'cafe', 'fast_food', 'food_court', 'ice_cream', 'pub', 'restarurant', 'school', 'library', 'atm', 'bank', 'hospital', 'veterinary', 'pharmacy',\n",
    "                  'clinic', 'cinema', 'nightclub', 'money_transfer', 'payment_terminal'],\n",
    "       'building': ['church'],\n",
    "        'leisure': ['fintess_centre']}"
   ]
  },
  {
   "cell_type": "code",
   "execution_count": null,
   "id": "8fcc3990-83d7-42f9-968c-e3f9ff120d3a",
   "metadata": {},
   "outputs": [],
   "source": [
    "path = os.path.join(os.getcwd(), 'maps', 'malopolskie.pbf')\n",
    "print(path)\n",
    "\n",
    "#Obszar w km w około którego szukamy:\n",
    "radius = 3\n",
    "\n",
    "h = OSMHandler(lat, lon, radius, dic)\n",
    "h.apply_file(path)\n",
    "\n",
    "Dataframe = h.acc()\n",
    "\n",
    "#Ustawienie datatype\n",
    "Dataframe['category'] = Dataframe['category'].astype(\"string\")\n",
    "Dataframe['subcategory'] = Dataframe['subcategory'].astype(\"string\")\n",
    "Dataframe['name'] = Dataframe['name'].astype(\"string\")"
   ]
  },
  {
   "cell_type": "code",
   "execution_count": null,
   "id": "711db61a-8942-457f-bd08-a9cb5a34c18e",
   "metadata": {},
   "outputs": [],
   "source": [
    "def get_address(lat, lon):\n",
    "    location = geolocator.reverse((lat, lon))\n",
    "    return location.address if location else None\n",
    "\n",
    "Dataframe['address'] = Dataframe.apply(lambda row: get_address(row['lat'], row['lon']), axis=1)\n",
    "Dataframe['address'] = Dataframe['address'].astype(\"string\")"
   ]
  },
  {
   "cell_type": "code",
   "execution_count": null,
   "id": "3394b0d6-60d7-48fe-9cd4-9c9d0aa06aa8",
   "metadata": {},
   "outputs": [],
   "source": [
    "print(Dataframe.info())"
   ]
  },
  {
   "cell_type": "code",
   "execution_count": null,
   "id": "a62e7ad0-6d7d-42dc-b458-cd6b68883659",
   "metadata": {},
   "outputs": [],
   "source": [
    "# Dataframes segmentation:\n",
    "import pandas as pd\n",
    "\n",
    "food = ['fast_food', 'food_court', 'restaurant']\n",
    "education = ['school', 'library']\n",
    "financial = ['bank', 'atm', 'money_transfer', 'payment_terminal']\n",
    "hospitals = ['clinic', 'hospital', 'pharmacy']\n",
    "\n",
    "food_dataframe = Dataframe[Dataframe['subcategory'].isin(food)].copy()\n",
    "education_dataframe = Dataframe[Dataframe['subcategory'].isin(education)].copy()\n",
    "financial_dataframe = Dataframe[Dataframe['subcategory'].isin(financial)].copy()\n",
    "hospitals_dataframe = Dataframe[Dataframe['subcategory'].isin(hospitals)].copy()"
   ]
  },
  {
   "cell_type": "code",
   "execution_count": null,
   "id": "3f78ee50-168c-45a1-99ef-45e8855a09cc",
   "metadata": {},
   "outputs": [],
   "source": [
    "#VISUALIZATION OF DATA:\n",
    "import folium\n",
    "\n",
    "\n",
    "vis_dataframe = food_dataframe\n",
    "\n",
    "map = folium.Map(location = (lat, lon), zoom_start = 14)\n",
    "folium.Marker(location = (lat, lon), popup ='INIT', icon=folium.Icon(color='red')).add_to(map)\n",
    "folium.Circle(location = (lat, lon), color = 'blue',radius = radius*1000,fill_color='lightblue', fill_opacity=0.2).add_to(map)\n",
    "\n",
    "for index, row in vis_dataframe.iterrows():\n",
    "    lat_f = row['lat']\n",
    "    lon_f = row['lon']\n",
    "    name = row['name']\n",
    "\n",
    "    folium.Marker(location = (lat_f, lon_f), popup=f'{name}').add_to(map)\n",
    "    \n",
    "\n",
    "map"
   ]
  },
  {
   "cell_type": "code",
   "execution_count": null,
   "id": "1896d992-010c-4b64-a3bb-0859c541aca2",
   "metadata": {},
   "outputs": [],
   "source": [
    "# SZUKANIE ADRESU PO LOKALIZACJI:\n",
    "\n",
    "# lat = 49.83611855\n",
    "# lon = 22.76256295511138\n",
    "\n",
    "address = geolocator.reverse((lat, lon))\n",
    "\n",
    "if address:\n",
    "    print(type(address.address))\n",
    "else:\n",
    "    print('Nie znaleziono')"
   ]
  }
 ],
 "metadata": {
  "kernelspec": {
   "display_name": "Python 3 (ipykernel)",
   "language": "python",
   "name": "python3"
  },
  "language_info": {
   "codemirror_mode": {
    "name": "ipython",
    "version": 3
   },
   "file_extension": ".py",
   "mimetype": "text/x-python",
   "name": "python",
   "nbconvert_exporter": "python",
   "pygments_lexer": "ipython3",
   "version": "3.10.12"
  }
 },
 "nbformat": 4,
 "nbformat_minor": 5
}
